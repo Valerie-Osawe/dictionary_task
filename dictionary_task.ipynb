{
 "cells": [
  {
   "cell_type": "markdown",
   "id": "20cf2b29-9b87-4095-bdad-333335ea0604",
   "metadata": {
    "tags": []
   },
   "source": [
    "# Assessment\n",
    "   You are the facilitator in the ADA program for 3 tracks of your choice, here is the list of your students in those three tracks:\n",
    "    \n",
    "    ['Amaka disappoint', 'Nedu japan', 'Pretty cynthia', 'Nedu japan', 'Pretty cynthia', 'Pretty cynthia'],\n",
    "    ('jon doe', 'john doe', 'john doe', 'jon bellion', 'jon bellion', 'john bellcat', 'jon doe'),\n",
    "    {'ada ada', 'pyhon ezege', 'dog catcher', 'bitrus beetroot', 'doja cat', 'beja rat'},\n",
    "   \n",
    "## Your first task:\n",
    "   Create a nested dictionary **students** with your chosen tracks, a **names** key is required for each track and choose any sequence above as the value for that names key,\n",
    "- Kindly note that each sequence in your **names** keys should have unique values (i.e no duplicates) and must be of type list and this must be done programatically.\n",
    "\n",
    "## Your second task:\n",
    "   Using your imagineative powers as a data superhero, create a **scores** key of type, list in each track where the first index in the names key, correspinds with the first index in the scores key.\n",
    " ## Your third task:\n",
    "   Print this desired result:\n",
    "   The top students are: [studentName] with score of [score] for [track] track, [studentName] with score of [score] for [track] track and [studentName] with score of [score] for [track] track"
   ]
  },
  {
   "cell_type": "code",
   "execution_count": 16,
   "id": "56f58798-f28e-429c-a651-8c4eec6df55d",
   "metadata": {},
   "outputs": [
    {
     "name": "stdout",
     "output_type": "stream",
     "text": [
      "{'Data': {'Names': ['Amaka disappoint', 'Nedu japan', 'Pretty cynthia', 'Nedu japan', 'Pretty cynthia', 'Pretty cynthia']}, 'Backend': {'Names': ['jon doe', 'john doe', 'john doe', 'jon bellion', 'jon bellion', 'john bellcat', 'jon doe']}, 'Frontend': {'Names': ['ada ada', 'pyhon ezege', 'dog catcher', 'bitrus beetroot', 'doja cat', 'beja rat']}}\n"
     ]
    }
   ],
   "source": [
    "# Task 1\n",
    "# Creating a nested dictionary called students\n",
    "students = {\n",
    "  \"Data\": {\n",
    "    \"Names\": [\n",
    "      \"Amaka disappoint\", \n",
    "      \"Nedu japan\", \n",
    "      \"Pretty cynthia\", \n",
    "      \"Nedu japan\", \n",
    "      \"Pretty cynthia\", \n",
    "      \"Pretty cynthia\"\n",
    "    ]\n",
    "  },\n",
    "  \"Backend\": {\n",
    "    \"Names\": [\n",
    "      \"jon doe\", \n",
    "      \"john doe\", \n",
    "      \"john doe\", \n",
    "      \"jon bellion\", \n",
    "      \"jon bellion\", \n",
    "      \"john bellcat\", \n",
    "      \"jon doe\"\n",
    "    ]\n",
    "  },\n",
    "  \"Frontend\": {\n",
    "    \"Names\": [\n",
    "      \"ada ada\", \n",
    "      \"pyhon ezege\", \n",
    "      \"dog catcher\", \n",
    "      \"bitrus beetroot\", \n",
    "      \"doja cat\", \n",
    "      \"beja rat\"\n",
    "    ]\n",
    "  }\n",
    "}\n",
    "print(students)"
   ]
  },
  {
   "cell_type": "code",
   "execution_count": 17,
   "id": "4b5e43c4-8d81-4ec4-95ef-b9182cacead4",
   "metadata": {},
   "outputs": [
    {
     "name": "stdout",
     "output_type": "stream",
     "text": [
      "{'Data': {'Names': ['Amaka disappoint', 'Nedu japan', 'Pretty cynthia', 'Nedu japan', 'Pretty cynthia', 'Pretty cynthia'], 'Scores': [90, 100, 70, 70, 80, 80]}, 'Backend': {'Names': ['jon doe', 'john doe', 'john doe', 'jon bellion', 'jon bellion', 'john bellcat', 'jon doe'], 'Scores': [70, 70, 60, 80, 90, 70, 80]}, 'Frontend': {'Names': ['ada ada', 'pyhon ezege', 'dog catcher', 'bitrus beetroot', 'doja cat', 'beja rat'], 'Scores': [90, 80, 80, 90, 100, 70]}}\n"
     ]
    }
   ],
   "source": [
    "# Task 2\n",
    "# Creating the score key\n",
    "students['Data']['Scores'] = [90, 100, 70, 70, 80, 80]\n",
    "students['Backend']['Scores'] = [70, 70, 60, 80, 90, 70, 80]\n",
    "students['Frontend']['Scores'] = [90, 80, 80, 90, 100, 70]\n",
    "# printing the updated dictionary\n",
    "print(students)"
   ]
  },
  {
   "cell_type": "code",
   "execution_count": 18,
   "id": "2ae70ce7-6c1a-495f-b28b-fca44bf42f16",
   "metadata": {},
   "outputs": [
    {
     "name": "stdout",
     "output_type": "stream",
     "text": [
      "The top students are: Nedu japan with score of 100 for Data track, jon bellion with score of 90 for Backend track and doja cat with score of 90 for Frontend track\n"
     ]
    }
   ],
   "source": [
    "# Task 3\n",
    "# variables for the tracks\n",
    "track = iter(students)\n",
    "dat = next(track)\n",
    "back = next(track)\n",
    "front = next(track)\n",
    "# variables for the names of the top students an their scores\n",
    "studentName_d = students['Data']['Names'][1]\n",
    "score_d = students['Data']['Scores'][1]\n",
    "studentName_b = students['Backend']['Names'][4]\n",
    "score_b = students['Backend']['Scores'][4]\n",
    "studentName_f = students['Frontend']['Names'][-2]\n",
    "score_f = students['Backend']['Scores'][4]\n",
    "# printing the names of the top students an their scores\n",
    "print(f'The top students are: {studentName_d} with score of {score_d} for {dat} track, {studentName_b} with score of {score_b} for {back} track and {studentName_f} with score of {score_f} for {front} track') "
   ]
  }
 ],
 "metadata": {
  "kernelspec": {
   "display_name": "Python 3 (ipykernel)",
   "language": "python",
   "name": "python3"
  },
  "language_info": {
   "codemirror_mode": {
    "name": "ipython",
    "version": 3
   },
   "file_extension": ".py",
   "mimetype": "text/x-python",
   "name": "python",
   "nbconvert_exporter": "python",
   "pygments_lexer": "ipython3",
   "version": "3.9.7"
  }
 },
 "nbformat": 4,
 "nbformat_minor": 5
}
