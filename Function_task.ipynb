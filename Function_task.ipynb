{
  "cells": [
    {
      "cell_type": "markdown",
      "metadata": {
        "id": "view-in-github",
        "colab_type": "text"
      },
      "source": [
        "<a href=\"https://colab.research.google.com/github/Valerie-Osawe/dictionary_task/blob/main/Function_task.ipynb\" target=\"_parent\"><img src=\"https://colab.research.google.com/assets/colab-badge.svg\" alt=\"Open In Colab\"/></a>"
      ]
    },
    {
      "cell_type": "markdown",
      "metadata": {
        "id": "e0Yp9N7uRoNG"
      },
      "source": [
        "### Week 17 Assignment\n",
        "# Name: OSARUONAMEN OLU-OSAWE"
      ]
    },
    {
      "cell_type": "markdown",
      "metadata": {
        "id": "tO3HpsEpSQqh"
      },
      "source": [
        "#### Task\n",
        "There are 5 requirements to have a romantic partner; singleness, maturity, intelligence, trust, love.\n",
        "\n",
        "All these requirements can take any numerical value between 1 and 10 except for singleness which can only be 1\n",
        "Write a function, love that requires a user to input numerical values of singleness, maturity, intelligence, trust, love scores. Mind you that all requirements must have at least a numerical value of 1 but to be eligible for a romantic relationship, a person needs a total score of 21.\n",
        "\n",
        "Your function outputs, “Congrats! You are closer to your desired romantic relationship” when a person has a score of at least 21\n",
        "Requirements:\n",
        "\n",
        "Your code must require the user to input their scores as numbers only and return, “Kindly input a number between 1 and 10\" when a type, number is not entered by the user\n",
        "If a user inputs a number > or < 1 for singleness, your code should return, “Kindly input the number 1 here”\n",
        "Your function should contain at least one type.\n",
        "\n",
        "There are at least 6 essentials here that you will be graded on\n",
        "of control flow, that is, at least one type of loop and at least one conditional.\n",
        "\n",
        "Finally, it is important to note that your function does not take in any parameters."
      ]
    },
    {
      "cell_type": "code",
      "execution_count": 6,
      "metadata": {
        "colab": {
          "base_uri": "https://localhost:8080/"
        },
        "id": "PRMlVu9NRT2S",
        "outputId": "49bba440-2caa-44d9-c7d1-eb5bccd2a8b2"
      },
      "outputs": [
        {
          "output_type": "stream",
          "name": "stdout",
          "text": [
            "Welcome!!!\n",
            " ^ ^   ^ ^   ^ ^   ^ ^\n",
            "  -     -     -     -\n",
            "Discover Your Eligibilty for A Romantic Relationship\n",
            "Enter 1 for your singleness score\n",
            " 0\n",
            "Kindly input the number 1 here\n",
            "Enter 1 for your singleness score\n",
            " 1\n",
            "Enter your maturity score (1-10)\n",
            " 0\n",
            "Kindly input a number between 1 and 10\n",
            "Enter your maturity score (1-10)\n",
            " 9\n",
            "Enter your intelligence score (1-10)\n",
            " 20\n",
            "Kindly input a number between 1 and 10\n",
            "Enter your intelligence score (1-10)\n",
            " 9\n",
            "Enter your trust score (1-10)\n",
            " 6\n",
            "Enter your love score (1-10)\n",
            " 5\n",
            "Congrats! You are closer to your desired romantic relationship\n"
          ]
        }
      ],
      "source": [
        "def get_elig():\n",
        "  \"\"\"\n",
        "    Asks user to specify a number between 1 and 10 to analyze.\n",
        "    Returns:\n",
        "        (str) city - name of the city to analyze\n",
        "        (str) month - name of the month to filter by, or \"all\" to apply no month filter\n",
        "        (str) day - name of the day of week to filter by, or \"all\" to apply no day filter\n",
        "  \"\"\"\n",
        "  print(\"Welcome!!!\\n ^ ^   ^ ^   ^ ^   ^ ^\\n  -     -     -     -\")\n",
        "  print(\"Discover Your Eligibilty for A Romantic Relationship\")\n",
        "  while True: \n",
        "        singleness = int(input(\"Enter 1 for your singleness score\\n \"))\n",
        "        if singleness == 1:\n",
        "          break\n",
        "        else:\n",
        "          print(\"Kindly input the number 1 here\") \n",
        "  while True:\n",
        "        maturity = int(input(\"Enter your maturity score (1-10)\\n \"))\n",
        "        if 1 <= maturity <= 10:\n",
        "          break\n",
        "        else:\n",
        "          print(\"Kindly input a number between 1 and 10\")\n",
        "  while True:\n",
        "        intelligence = int(input(\"Enter your intelligence score (1-10)\\n \"))\n",
        "        if 1 <= intelligence <= 10:\n",
        "          break\n",
        "        else:\n",
        "          print(\"Kindly input a number between 1 and 10\")\n",
        "  while True:\n",
        "        trust = int(input(\"Enter your trust score (1-10)\\n \"))\n",
        "        if 1 <= trust <= 10:\n",
        "          break\n",
        "        else:\n",
        "          print(\"Kindly input a number between 1 and 10\")\n",
        "  while True:\n",
        "        love = int(input(\"Enter your love score (1-10)\\n \"))\n",
        "        if 1 <= love <= 10:\n",
        "          break\n",
        "        else:\n",
        "          print(\"Kindly input a number between 1 and 10\")\n",
        "  eligibility = singleness + maturity + intelligence + trust + love\n",
        "  if eligibility >= 21:\n",
        "    return \"Congrats! You are closer to your desired romantic relationship\"\n",
        "  else:\n",
        "    return \"Sorry, you are not eligible for a romantic relationship yet.\" \n",
        "print(get_elig())\n",
        "          \n"
      ]
    }
  ],
  "metadata": {
    "colab": {
      "provenance": [],
      "authorship_tag": "ABX9TyOVS8dW6UV3XABJoCPuLh7H",
      "include_colab_link": true
    },
    "kernelspec": {
      "display_name": "Python 3",
      "name": "python3"
    },
    "language_info": {
      "name": "python"
    }
  },
  "nbformat": 4,
  "nbformat_minor": 0
}